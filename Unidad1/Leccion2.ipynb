{
 "cells": [
  {
   "cell_type": "code",
   "execution_count": 4,
   "metadata": {},
   "outputs": [
    {
     "name": "stdout",
     "output_type": "stream",
     "text": [
      "[1 2 3]\n",
      "(3,)\n"
     ]
    }
   ],
   "source": [
    "import numpy as np \n",
    "mylist = [1,2,3]\n",
    "numpyarray = np.array(mylist)\n",
    "print(numpyarray)\n",
    "print(numpyarray.shape)\n"
   ]
  },
  {
   "cell_type": "code",
   "execution_count": 5,
   "metadata": {},
   "outputs": [
    {
     "name": "stdout",
     "output_type": "stream",
     "text": [
      "[[1, 2, 3], [4, 5, 6]]\n",
      "(2, 3)\n",
      "first row: [1 2 3]\n",
      "Last row: [4 5 6]\n",
      "Specific row and columns:  3\n",
      "col row: [3 6]\n"
     ]
    }
   ],
   "source": [
    "mylist2 = [[1,2,3] , [4,5,6]]\n",
    "array2 = np.array(mylist2)\n",
    "print(mylist2)\n",
    "print(array2.shape)\n",
    "print(f\"first row: {array2[0]}\")\n",
    "print(f\"Last row: {array2[-1]}\")\n",
    "print(f\"Specific row and columns:  {array2[0,2]}\")\n",
    "print(f\"col row: {array2[ : ,2]}\")"
   ]
  },
  {
   "cell_type": "code",
   "execution_count": 6,
   "metadata": {},
   "outputs": [
    {
     "name": "stdout",
     "output_type": "stream",
     "text": [
      " Addition: [5 5 5]\n",
      " Muttiplicaction: [6 6 6]\n"
     ]
    }
   ],
   "source": [
    "myarray1 =  np.array([2,2,2])\n",
    "myarray2 = np.array([3,3,3])\n",
    "print(f\" Addition: {myarray1 + myarray2}\")\n",
    "print(f\" Muttiplicaction: {myarray1 * myarray2}\")"
   ]
  }
 ],
 "metadata": {
  "kernelspec": {
   "display_name": "Python 3",
   "language": "python",
   "name": "python3"
  },
  "language_info": {
   "codemirror_mode": {
    "name": "ipython",
    "version": 3
   },
   "file_extension": ".py",
   "mimetype": "text/x-python",
   "name": "python",
   "nbconvert_exporter": "python",
   "pygments_lexer": "ipython3",
   "version": "3.11.1"
  },
  "orig_nbformat": 4
 },
 "nbformat": 4,
 "nbformat_minor": 2
}
